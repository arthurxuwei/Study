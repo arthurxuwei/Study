{
 "cells": [
  {
   "cell_type": "code",
   "execution_count": 1,
   "metadata": {},
   "outputs": [],
   "source": [
    "import numpy as np\n",
    "import matplotlib.pyplot as plt\n",
    "\n",
    "from scipy import ndimage\n",
    "from sklearn import linear_model, datasets, metrics, model_selection, neural_network, pipeline"
   ]
  },
  {
   "cell_type": "code",
   "execution_count": 2,
   "metadata": {},
   "outputs": [],
   "source": [
    "#setting up\n",
    "def nudge_dataset(X, Y):\n",
    "    direction_vectors = [\n",
    "        [[0, 1, 0],\n",
    "         [0, 0, 0],\n",
    "         [0, 0, 0]],\n",
    "\n",
    "        [[0, 0, 0],\n",
    "         [1, 0, 0],\n",
    "         [0, 0, 0]],\n",
    "\n",
    "        [[0, 0, 0],\n",
    "         [0, 0, 1],\n",
    "         [0, 0, 0]],\n",
    "\n",
    "        [[0, 0, 0],\n",
    "         [0, 0, 0],\n",
    "         [0, 1, 0]]]\n",
    "    shift = lambda x, w: ndimage.convolve(x.reshape((8,8)), mode='constant', weights=w).ravel()\n",
    "    X = np.concatenate([X] + [np.apply_along_axis(shift, 1, X, vector) for vector in direction_vectors])\n",
    "    Y = np.concatenate([Y for _ in range(5)], axis = 0)\n",
    "    return X, Y"
   ]
  },
  {
   "cell_type": "code",
   "execution_count": 3,
   "metadata": {},
   "outputs": [],
   "source": [
    "#Load Data\n",
    "digits = datasets.load_digits()\n",
    "X = np.asarray(digits.data, 'float32')\n",
    "X, Y = nudge_dataset(X, digits.target)\n",
    "X = (X - np.min(X, 0)) /(np.max(X, 0) + 0.0001) #0-1 scaling\n",
    "\n",
    "X_train, X_test, Y_train, Y_test = model_selection.train_test_split(X, Y, test_size=0.2, random_state=0)\n",
    "\n",
    "logistic = linear_model.LogisticRegression()\n",
    "rbm = neural_network.BernoulliRBM(random_state=0, verbose=True)\n",
    "classifier = pipeline.Pipeline(steps=[('rbm', rbm), ('logistic', logistic)])"
   ]
  },
  {
   "cell_type": "code",
   "execution_count": 4,
   "metadata": {},
   "outputs": [
    {
     "name": "stdout",
     "output_type": "stream",
     "text": [
      "[BernoulliRBM] Iteration 1, pseudo-likelihood = -25.39, time = 0.45s\n",
      "[BernoulliRBM] Iteration 2, pseudo-likelihood = -23.77, time = 0.63s\n",
      "[BernoulliRBM] Iteration 3, pseudo-likelihood = -22.94, time = 0.59s\n",
      "[BernoulliRBM] Iteration 4, pseudo-likelihood = -21.91, time = 0.62s\n",
      "[BernoulliRBM] Iteration 5, pseudo-likelihood = -21.69, time = 0.59s\n",
      "[BernoulliRBM] Iteration 6, pseudo-likelihood = -21.06, time = 0.58s\n",
      "[BernoulliRBM] Iteration 7, pseudo-likelihood = -20.89, time = 0.58s\n",
      "[BernoulliRBM] Iteration 8, pseudo-likelihood = -20.64, time = 0.58s\n",
      "[BernoulliRBM] Iteration 9, pseudo-likelihood = -20.36, time = 0.58s\n",
      "[BernoulliRBM] Iteration 10, pseudo-likelihood = -20.09, time = 0.59s\n",
      "[BernoulliRBM] Iteration 11, pseudo-likelihood = -20.08, time = 0.58s\n",
      "[BernoulliRBM] Iteration 12, pseudo-likelihood = -19.82, time = 0.59s\n",
      "[BernoulliRBM] Iteration 13, pseudo-likelihood = -19.64, time = 0.58s\n",
      "[BernoulliRBM] Iteration 14, pseudo-likelihood = -19.61, time = 0.58s\n",
      "[BernoulliRBM] Iteration 15, pseudo-likelihood = -19.57, time = 0.59s\n",
      "[BernoulliRBM] Iteration 16, pseudo-likelihood = -19.41, time = 0.58s\n",
      "[BernoulliRBM] Iteration 17, pseudo-likelihood = -19.30, time = 0.58s\n",
      "[BernoulliRBM] Iteration 18, pseudo-likelihood = -19.25, time = 0.60s\n",
      "[BernoulliRBM] Iteration 19, pseudo-likelihood = -19.27, time = 0.59s\n",
      "[BernoulliRBM] Iteration 20, pseudo-likelihood = -19.01, time = 0.58s\n"
     ]
    },
    {
     "name": "stderr",
     "output_type": "stream",
     "text": [
      "/home/arthur.xw/.local/share/virtualenvs/ml-FhzBcel1/lib/python3.6/site-packages/sklearn/linear_model/logistic.py:433: FutureWarning: Default solver will be changed to 'lbfgs' in 0.22. Specify a solver to silence this warning.\n",
      "  FutureWarning)\n",
      "/home/arthur.xw/.local/share/virtualenvs/ml-FhzBcel1/lib/python3.6/site-packages/sklearn/linear_model/logistic.py:460: FutureWarning: Default multi_class will be changed to 'auto' in 0.22. Specify the multi_class option to silence this warning.\n",
      "  \"this warning.\", FutureWarning)\n",
      "/home/arthur.xw/.local/share/virtualenvs/ml-FhzBcel1/lib/python3.6/site-packages/sklearn/linear_model/logistic.py:433: FutureWarning: Default solver will be changed to 'lbfgs' in 0.22. Specify a solver to silence this warning.\n",
      "  FutureWarning)\n",
      "/home/arthur.xw/.local/share/virtualenvs/ml-FhzBcel1/lib/python3.6/site-packages/sklearn/linear_model/logistic.py:460: FutureWarning: Default multi_class will be changed to 'auto' in 0.22. Specify the multi_class option to silence this warning.\n",
      "  \"this warning.\", FutureWarning)\n"
     ]
    },
    {
     "data": {
      "text/plain": [
       "LogisticRegression(C=100.0, class_weight=None, dual=False, fit_intercept=True,\n",
       "          intercept_scaling=1, max_iter=100, multi_class='warn',\n",
       "          n_jobs=None, penalty='l2', random_state=None, solver='warn',\n",
       "          tol=0.0001, verbose=0, warm_start=False)"
      ]
     },
     "execution_count": 4,
     "metadata": {},
     "output_type": "execute_result"
    }
   ],
   "source": [
    "rbm.learning_rate = 0.06\n",
    "rbm.n_iter = 20\n",
    "rbm.n_components = 100\n",
    "logistic.C = 6000.0\n",
    "classifier.fit(X_train, Y_train)\n",
    "\n",
    "logistic_classifier = linear_model.LogisticRegression(C=100.0)\n",
    "logistic_classifier.fit(X_train, Y_train)"
   ]
  },
  {
   "cell_type": "code",
   "execution_count": 5,
   "metadata": {},
   "outputs": [
    {
     "name": "stdout",
     "output_type": "stream",
     "text": [
      "Logistic regression using RBM features:\n",
      "              precision    recall  f1-score   support\n",
      "\n",
      "           0       0.99      0.99      0.99       174\n",
      "           1       0.92      0.95      0.93       184\n",
      "           2       0.95      0.98      0.97       166\n",
      "           3       0.97      0.91      0.94       194\n",
      "           4       0.97      0.95      0.96       186\n",
      "           5       0.93      0.93      0.93       181\n",
      "           6       0.98      0.97      0.97       207\n",
      "           7       0.95      1.00      0.97       154\n",
      "           8       0.90      0.88      0.89       182\n",
      "           9       0.91      0.93      0.92       169\n",
      "\n",
      "   micro avg       0.95      0.95      0.95      1797\n",
      "   macro avg       0.95      0.95      0.95      1797\n",
      "weighted avg       0.95      0.95      0.95      1797\n",
      "\n",
      "\n"
     ]
    }
   ],
   "source": [
    "print(\"Logistic regression using RBM features:\\n%s\\n\" % (\n",
    "    metrics.classification_report(Y_test, classifier.predict(X_test))))"
   ]
  },
  {
   "cell_type": "code",
   "execution_count": 6,
   "metadata": {
    "scrolled": true
   },
   "outputs": [
    {
     "name": "stdout",
     "output_type": "stream",
     "text": [
      "Logistic regression using raw pixel features:\n",
      "              precision    recall  f1-score   support\n",
      "\n",
      "           0       0.85      0.94      0.89       174\n",
      "           1       0.57      0.55      0.56       184\n",
      "           2       0.72      0.85      0.78       166\n",
      "           3       0.76      0.74      0.75       194\n",
      "           4       0.85      0.82      0.84       186\n",
      "           5       0.74      0.75      0.75       181\n",
      "           6       0.93      0.88      0.91       207\n",
      "           7       0.86      0.90      0.88       154\n",
      "           8       0.68      0.55      0.61       182\n",
      "           9       0.71      0.74      0.72       169\n",
      "\n",
      "   micro avg       0.77      0.77      0.77      1797\n",
      "   macro avg       0.77      0.77      0.77      1797\n",
      "weighted avg       0.77      0.77      0.77      1797\n",
      "\n",
      "\n"
     ]
    }
   ],
   "source": [
    "print(\"Logistic regression using raw pixel features:\\n%s\\n\" % (\n",
    "    metrics.classification_report(Y_test, logistic_classifier.predict(X_test))))"
   ]
  },
  {
   "cell_type": "code",
   "execution_count": 25,
   "metadata": {},
   "outputs": [
    {
     "data": {
      "image/png": "[encoded data removed]",
      "text/plain": [
       "<Figure size 432x432 with 64 Axes>"
      ]
     },
     "metadata": {},
     "output_type": "display_data"
    }
   ],
   "source": [
    "#Plotting\n",
    "fig = plt.figure(figsize=(6, 6))\n",
    "fig.subplots_adjust(left=0, right=1, bottom=0, top=1, hspace=0.05, wspace=0.05)\n",
    "for i, comp in enumerate(rbm.components_[0:64]):\n",
    "    ax = fig.add_subplot(8, 8, i + 1, xticks=[], yticks=[])\n",
    "    ax.imshow(comp.reshape((8, 8)), cmap=plt.cm.gray_r, interpolation='nearest')\n",
    "plt.show()"
   ]
  },
  {
   "cell_type": "code",
   "execution_count": null,
   "metadata": {},
   "outputs": [],
   "source": []
  }
 ],
 "metadata": {
  "kernelspec": {
   "display_name": "Python 3",
   "language": "python",
   "name": "python3"
  },
  "language_info": {
   "codemirror_mode": {
    "name": "ipython",
    "version": 3
   },
   "file_extension": ".py",
   "mimetype": "text/x-python",
   "name": "python",
   "nbconvert_exporter": "python",
   "pygments_lexer": "ipython3",
   "version": "3.6.7"
  }
 },
 "nbformat": 4,
 "nbformat_minor": 2
}
