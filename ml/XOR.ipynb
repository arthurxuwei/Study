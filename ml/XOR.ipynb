{
 "cells": [
  {
   "cell_type": "code",
<<<<<<< HEAD
   "execution_count": 8,
=======
   "execution_count": null,
>>>>>>> b8af0c48ffc391c71cc6ba0758fd3f85595a0c80
   "metadata": {},
   "outputs": [],
   "source": [
    "import numpy as np\n",
    "from NeuralNetwork import NeuralNetwork\n",
    "import common as cm\n"
   ]
  },
  {
   "cell_type": "code",
   "execution_count": 9,
   "metadata": {},
   "outputs": [],
   "source": [
<<<<<<< HEAD
    "nn = NeuralNetwork([2, 2, 2], cm.tanh, cm.tanh_deriv)"
=======
    "nn = NeuralNetwork([2, 2, 1], cm.tanh, cm.tanh_deriv)\n"
>>>>>>> b8af0c48ffc391c71cc6ba0758fd3f85595a0c80
   ]
  },
  {
   "cell_type": "code",
   "execution_count": 10,
   "metadata": {},
   "outputs": [],
   "source": [
    "X = np.array([[0, 0], [0, 1], [1, 0], [1, 1]])\n",
    "y = np.array([0, 1, 1, 0])\n",
    "nn.fit(X, y)\n"
   ]
  },
  {
   "cell_type": "code",
<<<<<<< HEAD
   "execution_count": 11,
=======
   "execution_count": null,
>>>>>>> b8af0c48ffc391c71cc6ba0758fd3f85595a0c80
   "metadata": {},
   "outputs": [
    {
     "name": "stdout",
     "output_type": "stream",
     "text": [
      "[array([[-0.10537721, -0.19239514, -0.13163149],\n",
      "       [ 0.19026821, -0.24515575, -0.15767225],\n",
      "       [-0.03190538,  0.07479226, -0.18555702]]), array([[-0.10810517, -0.02995582],\n",
      "       [ 0.02021453,  0.11575666],\n",
      "       [ 0.24927555, -0.04860929]])]\n",
      "[1 1 1 1]\n"
     ]
    }
   ],
   "source": [
    "print(nn.weights)\n",
    "print(nn.predict(np.array([[0, 0], [0, 1], [1, 0], [1,1]])))"
   ]
  },
  {
   "cell_type": "code",
   "execution_count": null,
   "metadata": {},
   "outputs": [],
   "source": []
  }
 ],
 "metadata": {
  "kernelspec": {
   "display_name": "Python 3",
   "language": "python",
   "name": "python3"
  },
  "language_info": {
   "codemirror_mode": {
    "name": "ipython",
    "version": 3
   },
   "file_extension": ".py",
   "mimetype": "text/x-python",
   "name": "python",
   "nbconvert_exporter": "python",
   "pygments_lexer": "ipython3",
   "version": "3.6.7"
  }
 },
 "nbformat": 4,
 "nbformat_minor": 2
}
