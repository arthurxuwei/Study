{
 "cells": [
  {
   "cell_type": "code",
   "execution_count": 1,
   "metadata": {},
   "outputs": [],
   "source": [
    "import numpy as np\n",
    "from sklearn import datasets\n",
    "from sklearn import metrics\n",
    "from sklearn import preprocessing\n",
    "from sklearn import model_selection\n",
    "from NeuralNetwork import NeuralNetwork\n",
    "import common"
   ]
  },
  {
   "cell_type": "code",
   "execution_count": 2,
   "metadata": {},
   "outputs": [],
   "source": [
    "digits = datasets.load_digits()\n",
    "X = digits.data\n",
    "y = digits.target\n",
    "X -= X.min()\n",
    "X /= X.max()"
   ]
  },
  {
   "cell_type": "code",
   "execution_count": 3,
   "metadata": {},
   "outputs": [],
   "source": [
    "nn = NeuralNetwork([64, 100, 10], common.logistic, common.logistic_derivative)"
   ]
  },
  {
   "cell_type": "code",
   "execution_count": 4,
   "metadata": {},
   "outputs": [],
   "source": [
    "X_train, X_test, y_train, y_test = model_selection.train_test_split(X, y)\n",
    "labels_train = preprocessing.LabelBinarizer().fit_transform(y_train)\n",
    "labels_test = preprocessing.LabelBinarizer().fit_transform(y_test)"
   ]
  },
  {
   "cell_type": "code",
   "execution_count": 5,
   "metadata": {},
   "outputs": [],
   "source": [
    "nn.fit(X_train, labels_train, epochs=3000)"
   ]
  },
  {
   "cell_type": "code",
   "execution_count": 8,
   "metadata": {},
   "outputs": [],
   "source": [
    "\n",
    "predictions = nn.predict(X_test)\n"
   ]
  },
  {
   "cell_type": "code",
   "execution_count": 9,
   "metadata": {},
   "outputs": [
    {
     "name": "stdout",
     "output_type": "stream",
     "text": [
      "[[48  0  0  0  0  0  0  0  0  0]\n",
      " [ 0 32  1  0  0  1  1  0  0  2]\n",
      " [ 0  5 46  0  0  0  0  0  0  0]\n",
      " [ 0  0  0 47  0  0  0  4  0  3]\n",
      " [ 0  0  0  0 46  0  0  1  0  0]\n",
      " [ 0  0  0  0  0 38  1  0  0  2]\n",
      " [ 0  2  0  0  0  0 48  0  1  0]\n",
      " [ 0  0  0  0  1  2  0 43  0  0]\n",
      " [ 0  7  0  0  0  0  0  0 24  4]\n",
      " [ 0  0  0  0  0  1  0  0  0 39]]\n"
     ]
    }
   ],
   "source": [
    "print(metrics.confusion_matrix(y_test, predictions))"
   ]
  },
  {
   "cell_type": "code",
   "execution_count": 10,
   "metadata": {},
   "outputs": [
    {
     "name": "stdout",
     "output_type": "stream",
     "text": [
      "              precision    recall  f1-score   support\n",
      "\n",
      "           0       1.00      1.00      1.00        48\n",
      "           1       0.70      0.86      0.77        37\n",
      "           2       0.98      0.90      0.94        51\n",
      "           3       1.00      0.87      0.93        54\n",
      "           4       0.98      0.98      0.98        47\n",
      "           5       0.90      0.93      0.92        41\n",
      "           6       0.96      0.94      0.95        51\n",
      "           7       0.90      0.93      0.91        46\n",
      "           8       0.96      0.69      0.80        35\n",
      "           9       0.78      0.97      0.87        40\n",
      "\n",
      "   micro avg       0.91      0.91      0.91       450\n",
      "   macro avg       0.92      0.91      0.91       450\n",
      "weighted avg       0.92      0.91      0.91       450\n",
      "\n"
     ]
    }
   ],
   "source": [
    "print(metrics.classification_report(y_test, predictions))"
   ]
  }
 ],
 "metadata": {
  "kernelspec": {
   "display_name": "Python 3",
   "language": "python",
   "name": "python3"
  },
  "language_info": {
   "codemirror_mode": {
    "name": "ipython",
    "version": 3
   },
   "file_extension": ".py",
   "mimetype": "text/x-python",
   "name": "python",
   "nbconvert_exporter": "python",
   "pygments_lexer": "ipython3",
   "version": "3.6.7"
  }
 },
 "nbformat": 4,
 "nbformat_minor": 2
}
