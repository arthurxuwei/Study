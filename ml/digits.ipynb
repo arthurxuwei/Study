{
 "cells": [
  {
   "cell_type": "code",
   "execution_count": 6,
   "metadata": {},
   "outputs": [],
   "source": [
    "import numpy as np\n",
    "from sklearn import datasets\n",
    "from sklearn import metrics\n",
    "from sklearn import preprocessing\n",
    "from sklearn import model_selection\n",
    "from NeuralNetwork import NeuralNetwork\n",
    "import common"
   ]
  },
  {
   "cell_type": "code",
   "execution_count": 7,
   "metadata": {},
   "outputs": [],
   "source": [
    "digits = sk.datasets.load_digits()\n",
    "X = digits.data\n",
    "y = digits.target\n",
    "X -= X.min()\n",
    "X /= X.max()"
   ]
  },
  {
   "cell_type": "code",
   "execution_count": 8,
   "metadata": {},
   "outputs": [],
   "source": [
    "nn = NeuralNetwork([64, 100, 10], common.logistic, common.logistic_derivative)"
   ]
  },
  {
   "cell_type": "code",
   "execution_count": 9,
   "metadata": {},
   "outputs": [],
   "source": [
    "X_train, X_test, y_train, y_test = model_selection.train_test_split(X, y)\n",
    "labels_train = preprocessing.LabelBinarizer().fit_transform(y_train)\n",
    "labels_test = preprocessing.LabelBinarizer().fit_transform(y_test)"
   ]
  },
  {
   "cell_type": "code",
   "execution_count": 10,
   "metadata": {},
   "outputs": [],
   "source": [
    "nn.fit(X_train, labels_train, epochs=3000)"
   ]
  },
  {
   "cell_type": "code",
   "execution_count": 11,
   "metadata": {},
   "outputs": [],
   "source": [
    "predictions = []\n",
    "for i in range(X_test.shape[0]):\n",
    "    o = nn.predict(X_test[i])\n",
    "    predictions.append(np.argmax(o))"
   ]
  },
  {
   "cell_type": "code",
   "execution_count": 15,
   "metadata": {},
   "outputs": [
    {
     "name": "stdout",
     "output_type": "stream",
     "text": [
      "[[43  0  0  0  1  0  0  0  0  0]\n",
      " [ 0 39  3  0  0  1  2  0  3  1]\n",
      " [ 0  1 35  1  0  0  0  1  0  1]\n",
      " [ 0  1  0 43  0  2  0  2  3  0]\n",
      " [ 0  0  0  0 47  0  0  1  0  2]\n",
      " [ 0  0  0  0  0 36  0  0  0  6]\n",
      " [ 1  0  0  0  0  0 54  0  0  0]\n",
      " [ 0  0  0  0  1  0  0 32  1  5]\n",
      " [ 0  3  0  0  0  2  1  0 42  0]\n",
      " [ 0  0  0  1  0  0  0  0  0 32]]\n"
     ]
    }
   ],
   "source": [
    "print(metrics.confusion_matrix(y_test, predictions))"
   ]
  },
  {
   "cell_type": "code",
   "execution_count": 14,
   "metadata": {},
   "outputs": [
    {
     "name": "stdout",
     "output_type": "stream",
     "text": [
      "              precision    recall  f1-score   support\n",
      "\n",
      "           0       0.98      0.98      0.98        44\n",
      "           1       0.89      0.80      0.84        49\n",
      "           2       0.92      0.90      0.91        39\n",
      "           3       0.96      0.84      0.90        51\n",
      "           4       0.96      0.94      0.95        50\n",
      "           5       0.88      0.86      0.87        42\n",
      "           6       0.95      0.98      0.96        55\n",
      "           7       0.89      0.82      0.85        39\n",
      "           8       0.86      0.88      0.87        48\n",
      "           9       0.68      0.97      0.80        33\n",
      "\n",
      "   micro avg       0.90      0.90      0.90       450\n",
      "   macro avg       0.90      0.90      0.89       450\n",
      "weighted avg       0.90      0.90      0.90       450\n",
      "\n"
     ]
    }
   ],
   "source": [
    "print(metrics.classification_report(y_test, predictions))"
   ]
  },
  {
   "cell_type": "code",
   "execution_count": null,
   "metadata": {},
   "outputs": [],
   "source": []
  }
 ],
 "metadata": {
  "kernelspec": {
   "display_name": "Python 3",
   "language": "python",
   "name": "python3"
  },
  "language_info": {
   "codemirror_mode": {
    "name": "ipython",
    "version": 3
   },
   "file_extension": ".py",
   "mimetype": "text/x-python",
   "name": "python",
   "nbconvert_exporter": "python",
   "pygments_lexer": "ipython3",
   "version": "3.6.7"
  }
 },
 "nbformat": 4,
 "nbformat_minor": 2
}
