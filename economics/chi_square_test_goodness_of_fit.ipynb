{
 "cells": [
  {
   "cell_type": "code",
   "execution_count": 1,
   "metadata": {},
   "outputs": [],
   "source": [
    "import pandas as pd\n",
    "import scipy.stats as stats\n",
    "\n",
    "alpha = 0.05\n",
    "\n",
    "data = [['CDU', 0.415, 57], ['SPD', 0.257, 26], ['Others', 0.328, 40]] \n",
    "df = pd.DataFrame(data, columns = ['Varname', 'prob_dist', 'observed_freq']) \n",
    "df['expected_freq'] = df['observed_freq'].sum() * df['prob_dist']"
   ]
  },
  {
   "cell_type": "code",
   "execution_count": 3,
   "metadata": {},
   "outputs": [
    {
     "name": "stdout",
     "output_type": "stream",
     "text": [
      "Approach 1: The p-value approach to hypothesis testing in the decision rule\n",
      "chisquare-score is: 1.693614940576721  and p value is: 0.42878164729702506\n",
      "Failed to reject the null hypothesis.\n",
      "\n",
      "--------------------------------------------------------------------------------------\n",
      "Approach 2: The critical value approach to hypothesis testing in the decision rule\n",
      "chisquare-score is: 1.693614940576721  and critical value is: 5.991464547107979\n",
      "Failed to reject the null hypothesis.\n"
     ]
    }
   ],
   "source": [
    "chi_square = 0\n",
    "\n",
    "for i in range(len(df)):\n",
    "    O = df.loc[i, 'observed_freq']\n",
    "    E = df.loc[i, 'expected_freq']\n",
    "    chi_square += (O - E) ** 2 / E\n",
    "\n",
    "print(\"Approach 1: The p-value approach to hypothesis testing in the decision rule\")\n",
    "p_value = 1 - stats.chi2.cdf(chi_square, (df['Varname'].nunique()-1))\n",
    "if p_value <= alpha:\n",
    "    conclusion = \"Null Hypothesis is rejected.\"\n",
    "else:\n",
    "    conclusion = \"Failed to reject the null hypothesis.\"\n",
    "print(\"chisquare-score is:\", chi_square, \" and p value is:\", p_value)\n",
    "print(conclusion)\n",
    "\n",
    "print(\"\\n--------------------------------------------------------------------------------------\")\n",
    "\n",
    "print(\"Approach 2: The critical value approach to hypothesis testing in the decision rule\")\n",
    "critical_value = stats.chi2.ppf(1-alpha, (df['Varname'].nunique()-1))\n",
    "if chi_square > critical_value:\n",
    "    conclusion = \"Null Hypothesis is rejected.\"\n",
    "else:\n",
    "    conclusion = \"Failed to reject the null hypothesis.\"\n",
    "print(\"chisquare-score is:\", chi_square, \" and critical value is:\", critical_value)\n",
    "print(conclusion)\n"
   ]
  }
 ],
 "metadata": {
  "kernelspec": {
   "display_name": "Python 3.10.4 ('py10')",
   "language": "python",
   "name": "python3"
  },
  "language_info": {
   "codemirror_mode": {
    "name": "ipython",
    "version": 3
   },
   "file_extension": ".py",
   "mimetype": "text/x-python",
   "name": "python",
   "nbconvert_exporter": "python",
   "pygments_lexer": "ipython3",
   "version": "3.10.4"
  },
  "orig_nbformat": 4,
  "vscode": {
   "interpreter": {
    "hash": "5329c6d7c2972a4b06ba848ee0ca41a4d42e7f79311b3904fab66a970dd71896"
   }
  }
 },
 "nbformat": 4,
 "nbformat_minor": 2
}
